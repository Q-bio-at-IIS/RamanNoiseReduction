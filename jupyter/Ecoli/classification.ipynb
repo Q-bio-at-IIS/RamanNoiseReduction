{
 "cells": [
  {
   "cell_type": "markdown",
   "id": "a3b8ee55",
   "metadata": {},
   "source": [
    "# Classification analysis"
   ]
  },
  {
   "cell_type": "code",
   "execution_count": 1,
   "id": "7eb32803",
   "metadata": {},
   "outputs": [],
   "source": [
    "import numpy as np\n",
    "import pandas as pd\n",
    "import scipy.stats as stats\n",
    "import os, glob, random\n",
    "from scipy import signal\n",
    "from scipy import io\n",
    "import json, pickle\n",
    "import seaborn as sns\n",
    "from scipy import linalg\n",
    "\n",
    "# Plot\n",
    "import matplotlib.pyplot as plt\n",
    "import matplotlib.patches as patches\n",
    "from matplotlib import colors as pltcolors\n",
    "%matplotlib inline\n",
    "plt.rcParams[\"font.size\"] = 16\n",
    "\n",
    "import sys\n",
    "sys.path.append(\"../../scripts\")\n",
    "from noiseReductionMethodology import preprocessing, Raman_model\n",
    "from classification import classification_method\n",
    "from analysis_pclda import LDA_model\n",
    "from predictFunc import calcPrediction\n",
    "from util import returnValues"
   ]
  },
  {
   "cell_type": "code",
   "execution_count": 2,
   "id": "edc3846e",
   "metadata": {},
   "outputs": [],
   "source": [
    "nameList = [\"PCA\", \"NRM\"]\n",
    "colorList = [\"gray\", \"#B51700\"]\n",
    "numList = np.arange(12, 57, 6)\n",
    "nListStr = np.hstack([\"All\", numList[::-1]]).astype(str)\n",
    "\n",
    "condition_color = np.hstack([\n",
    "    [pltcolors.to_hex(plt.get_cmap(\"autumn\", 4)(i + 1)) for i in range(2)],\n",
    "    [pltcolors.to_hex(\"C8\")],\n",
    "    [pltcolors.to_hex(plt.get_cmap(\"summer\", 3)(1 - i)) for i in range(2)],\n",
    "    [pltcolors.to_hex(plt.get_cmap(\"Blues\", 3)(i + 1)) for i in range(1)],\n",
    "    [pltcolors.to_hex(a) for a in [\"royalblue\", \"blueviolet\", \"violet\", \"sienna\"]],\n",
    "])"
   ]
  },
  {
   "cell_type": "code",
   "execution_count": 3,
   "id": "a24ce911",
   "metadata": {},
   "outputs": [
    {
     "data": {
      "image/png": "[encoded data removed]",
      "text/html": [
       "<div style=\"vertical-align: middle;\"><strong></strong> </div><div class=\"cmap\"><img alt=\" colormap\" title=\"\" style=\"border: 1px solid #555;\" src=\"data:image/png;base64,iVBORw0KGgoAAAANSUhEUgAAAgAAAABACAYAAABsv8+/AAAAD3RFWHRUaXRsZQAgY29sb3JtYXCKlOmYAAAAFXRFWHREZXNjcmlwdGlvbgAgY29sb3JtYXAQltASAAAAMHRFWHRBdXRob3IATWF0cGxvdGxpYiB2My43LjEsIGh0dHBzOi8vbWF0cGxvdGxpYi5vcmcqr/hNAAAAMnRFWHRTb2Z0d2FyZQBNYXRwbG90bGliIHYzLjcuMSwgaHR0cHM6Ly9tYXRwbG90bGliLm9yZwQJZ2oAAAFVSURBVHic7da7DQIBDAVBfhlIBCdBQnRd0BPpVUsRlABd4GBnKniWk90/X9t3F3ZbjtMTRt2X0/SEUfX7H9fP9IRR6+U9PWHUeo7fH///YXoAAPB/AgAAggQAAAQJAAAIEgAAECQAACBIAABAkAAAgCABAABBAgAAggQAAAQJAAAIEgAAECQAACBIAABAkAAAgCABAABBAgAAggQAAAQJAAAIEgAAECQAACBIAABAkAAAgCABAABBAgAAggQAAAQJAAAIEgAAECQAACBIAABAkAAAgCABAABBAgAAggQAAAQJAAAIEgAAECQAACBIAABAkAAAgCABAABBAgAAggQAAAQJAAAIEgAAECQAACBIAABAkAAAgCABAABBAgAAggQAAAQJAAAIEgAAECQAACBIAABAkAAAgCABAABBAgAAggQAAAQJAAAIEgAAECQAACBIAABA0A9wIQdVXJ6dqgAAAABJRU5ErkJggg==\"></div><div style=\"vertical-align: middle; max-width: 514px; display: flex; justify-content: space-between;\"><div style=\"float: left;\"><div title=\"#396c75ff\" style=\"display: inline-block; width: 1em; height: 1em; margin: 0; vertical-align: middle; border: 1px solid #555; background-color: #396c75ff;\"></div> under</div><div style=\"margin: 0 auto; display: inline-block;\">bad <div title=\"#00000000\" style=\"display: inline-block; width: 1em; height: 1em; margin: 0; vertical-align: middle; border: 1px solid #555; background-color: #00000000;\"></div></div><div style=\"float: right;\">over <div title=\"#ffd700ff\" style=\"display: inline-block; width: 1em; height: 1em; margin: 0; vertical-align: middle; border: 1px solid #555; background-color: #ffd700ff;\"></div></div>"
      ],
      "text/plain": [
       "<matplotlib.colors.LinearSegmentedColormap at 0x7f334b8e31d0>"
      ]
     },
     "execution_count": 3,
     "metadata": {},
     "output_type": "execute_result"
    }
   ],
   "source": [
    "cm_nList = pltcolors.LinearSegmentedColormap.from_list('', [\"#396C75\", \"#89AF82\", \"gold\"], len(numList))\n",
    "cm_nList"
   ]
  },
  {
   "cell_type": "code",
   "execution_count": 4,
   "id": "058a4e87",
   "metadata": {},
   "outputs": [],
   "source": [
    "RAMAN = pd.read_csv(\"../../data/RAMAN_FINGERPRINT_Ecoli.csv\")\n",
    "RAMAN_PROCESSED = preprocessing(RAMAN)"
   ]
  },
  {
   "cell_type": "code",
   "execution_count": 5,
   "id": "c617a026",
   "metadata": {},
   "outputs": [],
   "source": [
    "cutRanges = np.arange(60, 100, 0.5)"
   ]
  },
  {
   "cell_type": "markdown",
   "id": "87cf4d86",
   "metadata": {},
   "source": [
    "## SVM"
   ]
  },
  {
   "cell_type": "code",
   "execution_count": 6,
   "id": "46d4caa2",
   "metadata": {},
   "outputs": [
    {
     "name": "stdout",
     "output_type": "stream",
     "text": [
      "................................................................................\n"
     ]
    }
   ],
   "source": [
    "accList_pca_SVM = []\n",
    "accList_nrm_SVM = []\n",
    "\n",
    "for i in cutRanges:\n",
    "    raman_model_ = Raman_model(RAMAN_PROCESSED, cutMode=\"percent_fixedDim\", cutRange=i)\n",
    "    raman_model_.calcTransformation()\n",
    "\n",
    "    accList_pca_SVM.append(classification_method(raman_model_.RAMAN_PCA, method=\"SVMlinear\", isPrint=False))\n",
    "    accList_nrm_SVM.append(classification_method(raman_model_.RAMAN_NRM, method=\"SVMlinear\", isPrint=False))\n",
    "    \n",
    "    print(\".\", end=\"\")\n",
    "print(\"\")"
   ]
  },
  {
   "cell_type": "code",
   "execution_count": 9,
   "id": "89e87975",
   "metadata": {
    "scrolled": true
   },
   "outputs": [
    {
     "data": {
      "text/html": [
       "<div>\n",
       "<style scoped>\n",
       "    .dataframe tbody tr th:only-of-type {\n",
       "        vertical-align: middle;\n",
       "    }\n",
       "\n",
       "    .dataframe tbody tr th {\n",
       "        vertical-align: top;\n",
       "    }\n",
       "\n",
       "    .dataframe thead th {\n",
       "        text-align: right;\n",
       "    }\n",
       "</style>\n",
       "<table border=\"1\" class=\"dataframe\">\n",
       "  <thead>\n",
       "    <tr style=\"text-align: right;\">\n",
       "      <th></th>\n",
       "      <th>PCA</th>\n",
       "      <th>NRM</th>\n",
       "    </tr>\n",
       "  </thead>\n",
       "  <tbody>\n",
       "    <tr>\n",
       "      <th>60.0%</th>\n",
       "      <td>47.685714</td>\n",
       "      <td>47.685714</td>\n",
       "    </tr>\n",
       "    <tr>\n",
       "      <th>60.5%</th>\n",
       "      <td>47.685714</td>\n",
       "      <td>47.685714</td>\n",
       "    </tr>\n",
       "    <tr>\n",
       "      <th>61.0%</th>\n",
       "      <td>47.685714</td>\n",
       "      <td>47.685714</td>\n",
       "    </tr>\n",
       "    <tr>\n",
       "      <th>61.5%</th>\n",
       "      <td>47.685714</td>\n",
       "      <td>47.685714</td>\n",
       "    </tr>\n",
       "    <tr>\n",
       "      <th>62.0%</th>\n",
       "      <td>47.685714</td>\n",
       "      <td>47.685714</td>\n",
       "    </tr>\n",
       "  </tbody>\n",
       "</table>\n",
       "</div>"
      ],
      "text/plain": [
       "             PCA        NRM\n",
       "60.0%  47.685714  47.685714\n",
       "60.5%  47.685714  47.685714\n",
       "61.0%  47.685714  47.685714\n",
       "61.5%  47.685714  47.685714\n",
       "62.0%  47.685714  47.685714"
      ]
     },
     "execution_count": 9,
     "metadata": {},
     "output_type": "execute_result"
    }
   ],
   "source": [
    "RESULTS_SVM = pd.DataFrame(np.vstack([np.mean(accList_pca_SVM, axis=1), np.mean(accList_nrm_SVM, axis=1)]).T,\n",
    "                           columns=[\"PCA\", \"NRM\"],\n",
    "                           index=[f\"{a:.1f}%\" for a in cutRanges])\n",
    "\n",
    "RESULTS_SVM.to_csv(\"../../results/ACCLIST_ALLDATA_SVMlinear_PERCENT_fixedDim_Ecoli.csv\", index=True)\n",
    "RESULTS_SVM.head()"
   ]
  },
  {
   "cell_type": "markdown",
   "id": "b8b6c77b",
   "metadata": {},
   "source": [
    "## MLP"
   ]
  },
  {
   "cell_type": "code",
   "execution_count": 7,
   "id": "7c3153a6",
   "metadata": {},
   "outputs": [
    {
     "name": "stdout",
     "output_type": "stream",
     "text": [
      "................................................................................\n"
     ]
    }
   ],
   "source": [
    "accList_pca_MLP = []\n",
    "accList_nrm_MLP = []\n",
    "\n",
    "for i in cutRanges:\n",
    "    raman_model_ = Raman_model(RAMAN_PROCESSED, cutMode=\"percent_fixedDim\", cutRange=i)\n",
    "    raman_model_.calcTransformation()\n",
    "\n",
    "    accList_pca_MLP.append(classification_method(raman_model_.RAMAN_PCA, method=\"MLP\", isPrint=False))\n",
    "    accList_nrm_MLP.append(classification_method(raman_model_.RAMAN_NRM, method=\"MLP\", isPrint=False))\n",
    "    \n",
    "    print(\".\", end=\"\")\n",
    "print(\"\")"
   ]
  },
  {
   "cell_type": "code",
   "execution_count": 10,
   "id": "bc5e9386",
   "metadata": {},
   "outputs": [
    {
     "data": {
      "text/html": [
       "<div>\n",
       "<style scoped>\n",
       "    .dataframe tbody tr th:only-of-type {\n",
       "        vertical-align: middle;\n",
       "    }\n",
       "\n",
       "    .dataframe tbody tr th {\n",
       "        vertical-align: top;\n",
       "    }\n",
       "\n",
       "    .dataframe thead th {\n",
       "        text-align: right;\n",
       "    }\n",
       "</style>\n",
       "<table border=\"1\" class=\"dataframe\">\n",
       "  <thead>\n",
       "    <tr style=\"text-align: right;\">\n",
       "      <th></th>\n",
       "      <th>PCA</th>\n",
       "      <th>NRM</th>\n",
       "    </tr>\n",
       "  </thead>\n",
       "  <tbody>\n",
       "    <tr>\n",
       "      <th>60.0%</th>\n",
       "      <td>47.685714</td>\n",
       "      <td>47.685714</td>\n",
       "    </tr>\n",
       "    <tr>\n",
       "      <th>60.5%</th>\n",
       "      <td>47.685714</td>\n",
       "      <td>47.685714</td>\n",
       "    </tr>\n",
       "    <tr>\n",
       "      <th>61.0%</th>\n",
       "      <td>47.685714</td>\n",
       "      <td>47.685714</td>\n",
       "    </tr>\n",
       "    <tr>\n",
       "      <th>61.5%</th>\n",
       "      <td>47.685714</td>\n",
       "      <td>47.685714</td>\n",
       "    </tr>\n",
       "    <tr>\n",
       "      <th>62.0%</th>\n",
       "      <td>47.685714</td>\n",
       "      <td>47.685714</td>\n",
       "    </tr>\n",
       "  </tbody>\n",
       "</table>\n",
       "</div>"
      ],
      "text/plain": [
       "             PCA        NRM\n",
       "60.0%  47.685714  47.685714\n",
       "60.5%  47.685714  47.685714\n",
       "61.0%  47.685714  47.685714\n",
       "61.5%  47.685714  47.685714\n",
       "62.0%  47.685714  47.685714"
      ]
     },
     "execution_count": 10,
     "metadata": {},
     "output_type": "execute_result"
    }
   ],
   "source": [
    "RESULTS_MLP = pd.DataFrame(np.vstack([np.mean(accList_pca_SVM, axis=1), np.mean(accList_nrm_SVM, axis=1)]).T,\n",
    "                           columns=[\"PCA\", \"NRM\"],\n",
    "                           index=[f\"{a:.1f}%\" for a in cutRanges])\n",
    "\n",
    "RESULTS_MLP.to_csv(\"../../results/ACCLIST_ALLDATA_MLP_PERCENT_fixedDim_Ecoli.csv\", index=True)\n",
    "RESULTS_MLP.head()"
   ]
  },
  {
   "cell_type": "markdown",
   "id": "37b094e8",
   "metadata": {},
   "source": [
    "## [SFig. 3f]"
   ]
  },
  {
   "cell_type": "code",
   "execution_count": 12,
   "id": "d86b88eb",
   "metadata": {},
   "outputs": [
    {
     "data": {
      "image/png": "[encoded data removed]",
      "text/plain": [
       "<Figure size 600x400 with 1 Axes>"
      ]
     },
     "metadata": {},
     "output_type": "display_data"
    }
   ],
   "source": [
    "plt.figure(figsize=(6, 4))\n",
    "\n",
    "for data, name, color in zip([accList_pca_SVM, accList_pca_MLP], [\"SVM\", \"MLP\"], [\"gray\", \"k\"]):\n",
    "    plt.plot(cutRanges, np.mean(data, axis=1), color=color, label=name)\n",
    "    \n",
    "plt.xticks(np.arange(60, 101, 10))\n",
    "plt.xlim(60, 100)\n",
    "plt.xlabel(\"Threshold (%)\")\n",
    "plt.yticks(np.arange(0, 110, 20))\n",
    "plt.ylim(0, 100)\n",
    "plt.title(\"Accuracy (%)\")\n",
    "plt.tight_layout()\n",
    "plt.show()"
   ]
  },
  {
   "cell_type": "code",
   "execution_count": null,
   "id": "cae8fda1",
   "metadata": {},
   "outputs": [],
   "source": []
  }
 ],
 "metadata": {
  "kernelspec": {
   "display_name": "Python [conda env:raman] *",
   "language": "python",
   "name": "conda-env-raman-py"
  },
  "language_info": {
   "codemirror_mode": {
    "name": "ipython",
    "version": 3
   },
   "file_extension": ".py",
   "mimetype": "text/x-python",
   "name": "python",
   "nbconvert_exporter": "python",
   "pygments_lexer": "ipython3",
   "version": "3.11.4"
  }
 },
 "nbformat": 4,
 "nbformat_minor": 5
}
